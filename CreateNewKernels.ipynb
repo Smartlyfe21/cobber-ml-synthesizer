{
 "cells": [
  {
   "cell_type": "markdown",
   "id": "e4bc149f-c1aa-49db-99e6-9edfb657808c",
   "metadata": {},
   "source": [
    "# Create New Kernels Dataset\n",
    "\n",
    "This notebook generates a synthetic dataset of kernels with attributes such as EARitability, aMAIZEingness, and CORNYness. The dataset is saved as 'NewKernelData.csv' for further analysis.\n",
    "\n",
    "## Importing Necessary Libraries\n",
    "\n",
    "We utilize `numpy` for numerical operations and `pandas` for data handling.\n",
    "\n",
    "\n",
    "## Data Generation\n",
    "\n",
    "- **Number of Samples**: 10\n",
    "- **Features**:\n",
    "  - `EARitability`: Random values between 0 and 10.\n",
    "  - `aMAIZEingness`: Random values between 1 and 10.\n",
    "  - `X3`: Irrelevant feature with random values.\n",
    "  - `X4`: Non-linear transformation of `EARitability` with added noise.\n",
    "  - `CORNYness`: Complex interactions based on `EARitability` and `aMAIZEingness`.\n",
    "\n",
    "The dataset is constructed to simulate realistic relationships among features.\n"
   ]
  },
  {
   "cell_type": "markdown",
   "id": "d46f2896-8333-4469-82c3-589e732016ed",
   "metadata": {},
   "source": []
  },
  {
   "cell_type": "code",
   "execution_count": 1,
   "id": "0c3a2f5d-bfaf-455d-94e4-4b2c25860650",
   "metadata": {},
   "outputs": [],
   "source": [
    "import numpy as np\n",
    "import pandas as pd"
   ]
  },
  {
   "cell_type": "code",
   "execution_count": 2,
   "id": "157b6305-f4d7-4f4e-96cc-17551b104d95",
   "metadata": {},
   "outputs": [
    {
     "name": "stdout",
     "output_type": "stream",
     "text": [
      "CSV file 'NewKernelData.csv' created successfully!\n"
     ]
    }
   ],
   "source": [
    "# Set random seed for reproducibility\n",
    "np.random.seed(42)\n",
    "\n",
    "# Number of kernels\n",
    "n_samples = 10\n",
    "\n",
    "# Generate X1, X2, X3 as random values\n",
    "S = range(1, n_samples + 1)\n",
    "EARitability = np.random.uniform(0, 10, n_samples)\n",
    "aMAIZEingness = np.random.uniform(1, 10, n_samples)\n",
    "X3 = np.random.uniform(0, 10, n_samples)  # Irrelevant feature\n",
    "X4 = np.sqrt(EARitability) + np.random.normal(0, 0.1, n_samples)  # Non-linear, noisy version of X1\n",
    "\n",
    "# Create CORNYness with more complex interactions and conditional logic\n",
    "noise = np.random.normal(0, 0.1, n_samples)\n",
    "CORNYness = np.where(EARitability > 5, EARitability**2 + aMAIZEingness, EARitability - np.sin(aMAIZEingness)) + 0.3 * X3 + noise\n",
    "\n",
    "# Create a DataFrame and round values to 2 decimal places\n",
    "df = pd.DataFrame({\n",
    "    'Kernel': S,\n",
    "    'EARitability': np.round(EARitability, 2),\n",
    "    'aMAIZEingness': np.round(aMAIZEingness, 2),\n",
    "    'CORNYness': np.round(CORNYness, 2)\n",
    "})\n",
    "\n",
    "# Save to CSV\n",
    "df.to_csv('NewKernelData.csv', index=False)\n",
    "\n",
    "print(\"CSV file 'NewKernelData.csv' created successfully!\")"
   ]
  },
  {
   "cell_type": "markdown",
   "id": "9fcc9b6b-894c-4973-8aa7-c903124ed190",
   "metadata": {},
   "source": [
    "[Proceed to the analysis notebook](./CobberMLsyn.ipynb)\n"
   ]
  },
  {
   "cell_type": "code",
   "execution_count": null,
   "id": "00dcbbc3-d6da-4e00-bfa1-276a993ec533",
   "metadata": {},
   "outputs": [],
   "source": []
  }
 ],
 "metadata": {
  "kernelspec": {
   "display_name": "Python (chem_ml_env)",
   "language": "python",
   "name": "chem_ml_env"
  },
  "language_info": {
   "codemirror_mode": {
    "name": "ipython",
    "version": 3
   },
   "file_extension": ".py",
   "mimetype": "text/x-python",
   "name": "python",
   "nbconvert_exporter": "python",
   "pygments_lexer": "ipython3",
   "version": "3.12.9"
  }
 },
 "nbformat": 4,
 "nbformat_minor": 5
}
